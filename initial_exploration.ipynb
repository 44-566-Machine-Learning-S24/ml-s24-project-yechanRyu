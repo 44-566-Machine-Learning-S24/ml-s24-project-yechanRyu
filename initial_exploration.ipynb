{
 "cells": [
  {
   "cell_type": "markdown",
   "id": "6df48d6f-9238-40b5-8cba-ae3ced53d958",
   "metadata": {},
   "source": [
    "# Did you discover interesting relations?\n",
    "\n",
    "##### It appears that the variables **'Open', 'High', 'Low', 'Close', and 'Adj Close'** exhibit a strong positive correlation with each other, indicating their high association with price-related factors. However, there wasn't a significant lead-lag relationship found between the variables 'Volume' and 'fluctuation rate'. Nonetheless, in the case of **'Volume'**, a lead relationship of **0.727335** was observed with **'High'**, suggesting a correlation between higher trading volumes and higher prices."
   ]
  },
  {
   "cell_type": "markdown",
   "id": "5e3fa3b2-96c5-4ce3-adbc-34ea6b173c4a",
   "metadata": {},
   "source": [
    "# What feature/s would you like to be able to predict?\n",
    "- To predict the characteristics that form a high price range, various factors related to high prices need to be considered. These may include not only the 'High' variable but also other price-related variables such as 'Open,' 'Low,' 'Close,' 'Adj Close,' and more. Additionally, trading volume is considered a crucial factor influencing high prices. Analyzing these variables collectively enables the prediction of features contributing to the formation of a high price range.\n",
    "\n",
    "- Similarly, predicting the characteristics forming a low price range involves a comparable approach. By considering variables related to low prices, such as 'Open,' 'High,' 'Low,' 'Close,' 'Adj Close,' along with trading volume, it is possible to predict features contributing to the formation of a low price range.\n",
    "\n",
    "- Trading volume plays a significant role in predicting both high and low prices. High trading volume can be considered a signal that may influence stock price movements, either upward or downward. Therefore, leveraging trading volume information can be helpful in predicting both high and low price ranges."
   ]
  },
  {
   "cell_type": "code",
   "execution_count": 36,
   "id": "60ff105c-8a75-4054-91b5-1a1f83c6fe88",
   "metadata": {
    "tags": []
   },
   "outputs": [
    {
     "name": "stdout",
     "output_type": "stream",
     "text": [
      "<class 'pandas.core.frame.DataFrame'>\n",
      "RangeIndex: 470 entries, 0 to 469\n",
      "Data columns (total 8 columns):\n",
      " #   Column            Non-Null Count  Dtype  \n",
      "---  ------            --------------  -----  \n",
      " 0   Date              470 non-null    object \n",
      " 1   Open              470 non-null    float64\n",
      " 2   High              470 non-null    float64\n",
      " 3   Low               470 non-null    float64\n",
      " 4   Close             470 non-null    float64\n",
      " 5   Adj Close         470 non-null    float64\n",
      " 6   Volume            470 non-null    float64\n",
      " 7   fluctuation rate  470 non-null    float64\n",
      "dtypes: float64(7), object(1)\n",
      "memory usage: 29.5+ KB\n",
      "None\n",
      "Index(['Date', 'Open', 'High', 'Low', 'Close', 'Adj Close', 'Volume',\n",
      "       'fluctuation rate'],\n",
      "      dtype='object')\n",
      "               Open          High           Low         Close     Adj Close  \\\n",
      "count    470.000000    470.000000    470.000000    470.000000    470.000000   \n",
      "mean   15060.411341  16119.469740  14012.272338  15149.926575  15149.926575   \n",
      "std    16276.127816  17347.949577  15063.558621  16310.946142  16310.946142   \n",
      "min      211.470993    231.712997    171.509995    210.339005    210.339005   \n",
      "25%     1192.882538   1262.484985   1158.174957   1210.752472   1210.752472   \n",
      "50%     8635.690430   9308.080078   8027.260254   8689.730468   8689.730468   \n",
      "75%    25908.642580  26793.416990  24313.265625  25962.216800  25962.216800   \n",
      "max    65521.289060  68789.625000  62333.914060  65466.839840  65466.839840   \n",
      "\n",
      "             Volume  fluctuation rate  \n",
      "count  4.700000e+02        470.000000  \n",
      "mean   1.194215e+11          1.578723  \n",
      "std    1.249906e+11          9.980138  \n",
      "min    1.071499e+08        -33.490000  \n",
      "25%    2.606176e+09         -2.962500  \n",
      "50%    9.339114e+10          1.135000  \n",
      "75%    1.935000e+11          6.222500  \n",
      "max    7.670000e+11         41.480000  \n"
     ]
    }
   ],
   "source": [
    "#cleanning dataset\n",
    "dataset.drop_duplicates(inplace=True)\n",
    "print(dataset.info()) #check if there is any empty value in the data set.\n",
    "print(dataset.keys())\n",
    "print(dataset.describe())"
   ]
  },
  {
   "cell_type": "code",
   "execution_count": 39,
   "id": "95d7fb1e-6969-4e9d-b302-a0d95fab8438",
   "metadata": {
    "tags": []
   },
   "outputs": [],
   "source": [
    "#create the train and test set\n",
    "from sklearn.model_selection import train_test_split\n",
    "train_set, test_set = train_test_split(dataset, test_size=0.2, random_state=42)"
   ]
  },
  {
   "cell_type": "code",
   "execution_count": null,
   "id": "5509aee7-fcc2-4800-8f0e-2eb17ab444c9",
   "metadata": {},
   "outputs": [],
   "source": []
  }
 ],
 "metadata": {
  "kernelspec": {
   "display_name": "Python 3 (ipykernel)",
   "language": "python",
   "name": "python3"
  },
  "language_info": {
   "codemirror_mode": {
    "name": "ipython",
    "version": 3
   },
   "file_extension": ".py",
   "mimetype": "text/x-python",
   "name": "python",
   "nbconvert_exporter": "python",
   "pygments_lexer": "ipython3",
   "version": "3.11.5"
  }
 },
 "nbformat": 4,
 "nbformat_minor": 5
}
