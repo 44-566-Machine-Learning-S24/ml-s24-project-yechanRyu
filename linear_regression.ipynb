{
 "cells": [
  {
   "cell_type": "code",
   "execution_count": 1,
   "id": "f2f7ebe9-2d02-4775-98b6-d96e17dc76c9",
   "metadata": {},
   "outputs": [],
   "source": [
    "import pandas as pd\n",
    "dataset=pd.read_csv('BTC-USD.csv')"
   ]
  },
  {
   "cell_type": "markdown",
   "id": "cf66f918-2d93-47aa-bee7-39bfad6e4daa",
   "metadata": {},
   "source": [
    "#### This is the same as the dataset previously used. It does not have any 'na' values, and it is already in the desired format type. Therefore, there is no need to clean it."
   ]
  },
  {
   "cell_type": "code",
   "execution_count": 2,
   "id": "301c64d8-64a1-4b00-a106-528982992df0",
   "metadata": {
    "tags": []
   },
   "outputs": [],
   "source": [
    "from sklearn.model_selection import train_test_split\n",
    "from sklearn.linear_model import LinearRegression\n",
    "train_set, test_set = train_test_split(dataset, test_size=0.2, random_state=42)"
   ]
  },
  {
   "cell_type": "markdown",
   "id": "fbe5b330-92f1-490d-b67e-2b30a3006838",
   "metadata": {},
   "source": [
    "#### To split the training set and test set, I used train_test_split from sklearn.model_selection."
   ]
  },
  {
   "cell_type": "code",
   "execution_count": 16,
   "id": "e186abce-53d1-4097-9f09-0a275d1046ff",
   "metadata": {},
   "outputs": [],
   "source": [
    "lin_reg = LinearRegression()\n",
    "lin_reg2 = LinearRegression()\n",
    "X_train = train_set[['Volume']] #array like\n",
    "y_train = train_set['High'] #vector like\n",
    "X_test = test_set[['Volume']]\n",
    "y_test = test_set['High']"
   ]
  },
  {
   "cell_type": "markdown",
   "id": "22d821dc-ca89-402d-aef3-13033fc148ed",
   "metadata": {},
   "source": [
    "#### The above code initializes the LinearRegression model to perform linear regression. It assigns the 'Volume' feature of the train_set to X_train and the 'High' label values of the train_set to y_train. Afterward, the model is fitted to proceed with the training, and various tasks such as predictions can be performed.**The reason for designating ['Volume'] as the x-value is because I want to predict ['High'] based on the volume.**"
   ]
  },
  {
   "cell_type": "code",
   "execution_count": 18,
   "id": "7ea78b24-daf6-4a52-950e-fed6553df6c2",
   "metadata": {},
   "outputs": [
    {
     "name": "stdout",
     "output_type": "stream",
     "text": [
      "[[17], [20], [19]]\n",
      "[4081.42725416 4081.42725447 4081.42725437]\n",
      "0.4999218786939512\n",
      "0.5330701593853446\n",
      "114989706.75567454\n",
      "148072271.52454865\n"
     ]
    },
    {
     "name": "stderr",
     "output_type": "stream",
     "text": [
      "/Users/yechanryu/anaconda3/lib/python3.11/site-packages/sklearn/base.py:493: UserWarning: X does not have valid feature names, but LinearRegression was fitted with feature names\n",
      "  warnings.warn(\n"
     ]
    }
   ],
   "source": [
    "lin_reg.fit(X_train,y_train)\n",
    "from sklearn.metrics import mean_squared_error\n",
    "y_pred = lin_reg.predict(X_test)\n",
    "y_pred_train = lin_reg.predict(X_train)\n",
    "r2_train=lin_reg.score(X_train, y_train)\n",
    "r2_test = lin_reg.score(X_test, y_test)\n",
    "rms_error = mean_squared_error(y_test, y_pred)\n",
    "rms_error_train = mean_squared_error(y_train, y_pred_train)\n",
    "X_predict = [[17], [20], [19]]\n",
    "y_predict = lin_reg.predict(X_predict)\n",
    "print(X_predict)\n",
    "print(y_predict)\n",
    "print(r2_test)\n",
    "print(r2_train)\n",
    "print(rms_error)\n",
    "print(rms_error_train)"
   ]
  },
  {
   "cell_type": "markdown",
   "id": "79cd5fb2-e0ce-449d-af73-4404fadd2ec6",
   "metadata": {},
   "source": [
    "* Print(X_predict) displays the values of the variable X_predict, which represents input data for a linear regression model consisting of three instances in a list, each representing an independent variable (x). The output is [[17], [20], [19]].\n",
    "* Print(y_predict) shows the values of the variable y_predict, representing the model's predictions for X_predict. The output is an array [4081.42725416 4081.42725447 4081.42725437], indicating predicted values for each instance.\n",
    "* The R-squared value, represented by r2_test, is approximately 49.99%. R-squared indicates how well the model explains the dependent variable with independent variables. However, a value of 49.99% suggests insufficient explanation. On the other hand, r2_train is around 53.31%, slightly higher than the test value but still inadequate. Despite this, the model shows a relatively balanced explanatory power between training and test data, indicating reasonable generalization ability.\n",
    "* The root mean square error (RMS Error) for the test data, rms_error, is approximately 114989706.75567454. Additionally, rms_error_train is around 148072271.52454865. These values indicate that the current model has some explanatory power but exhibits significant prediction errors, suggesting the need for further measures to enhance its performance.\n"
   ]
  },
  {
   "cell_type": "code",
   "execution_count": 20,
   "id": "092efb00-c0dd-462c-8674-a78e115140fa",
   "metadata": {},
   "outputs": [],
   "source": [
    "## better model \n",
    "train_set1, test_set1 = train_test_split(dataset, test_size=0.1, random_state=42)"
   ]
  },
  {
   "cell_type": "code",
   "execution_count": 22,
   "id": "05d03080-6f89-484f-a39d-1741bbbe2cca",
   "metadata": {
    "tags": []
   },
   "outputs": [
    {
     "name": "stdout",
     "output_type": "stream",
     "text": [
      "[[17], [20], [19]]\n",
      "[4184.57170548 4184.57170578 4184.57170568]\n",
      "0.6243973120733342\n",
      "0.5194235460488409\n",
      "88247865.34693414\n",
      "147468964.15932348\n"
     ]
    },
    {
     "name": "stderr",
     "output_type": "stream",
     "text": [
      "/Users/yechanryu/anaconda3/lib/python3.11/site-packages/sklearn/base.py:493: UserWarning: X does not have valid feature names, but LinearRegression was fitted with feature names\n",
      "  warnings.warn(\n"
     ]
    }
   ],
   "source": [
    "lin_reg1 = LinearRegression()\n",
    "X_train1 = train_set1[['Volume']]\n",
    "y_train1 = train_set1['High'] \n",
    "X_test1 = test_set1[['Volume']]\n",
    "y_test1 = test_set1['High']\n",
    "lin_reg1.fit(X_train1,y_train1)\n",
    "from sklearn.metrics import mean_squared_error\n",
    "y_pred1 = lin_reg1.predict(X_test1)\n",
    "y_pred_train1 = lin_reg.predict(X_train1)\n",
    "r2_train1=lin_reg1.score(X_train1, y_train1)\n",
    "r2_test1 = lin_reg1.score(X_test1, y_test1)\n",
    "rms_error1 = mean_squared_error(y_test1, y_pred1)\n",
    "rms_error_train1 = mean_squared_error(y_train1, y_pred_train1)\n",
    "X_predict1 = [[17], [20], [19]]\n",
    "y_predict1 = lin_reg1.predict(X_predict1)\n",
    "print(X_predict1)\n",
    "print(y_predict1)\n",
    "print(r2_test1)\n",
    "print(r2_train1)\n",
    "print(rms_error1)\n",
    "print(rms_error_train1)"
   ]
  },
  {
   "cell_type": "markdown",
   "id": "38d981d0-f1ce-4bde-a2bb-fe8752d96bb5",
   "metadata": {},
   "source": [
    "#### Train_set1 and test_set1 result from splitting the dataset using the train_test_split function with a 90:10 ratio. This indicates a higher proportion of the training set compared to the first model. The R-squared for the test set is 62%, indicating a greater level of explanation. However, the R-squared for the training set is 51%, suggesting less explanatory power. In terms of RMS, there is a significant improvement in the test set with a value of 88247865.35, while the training set shows a marginal improvement with 147468964.16. In conclusion, adjusting the ratio of the input dataset for parameters has revealed the potential to create a better model."
   ]
  },
  {
   "cell_type": "code",
   "execution_count": null,
   "id": "9d8d4035-2fd8-4504-b9eb-2e91f492e98e",
   "metadata": {},
   "outputs": [],
   "source": []
  }
 ],
 "metadata": {
  "kernelspec": {
   "display_name": "Python 3 (ipykernel)",
   "language": "python",
   "name": "python3"
  },
  "language_info": {
   "codemirror_mode": {
    "name": "ipython",
    "version": 3
   },
   "file_extension": ".py",
   "mimetype": "text/x-python",
   "name": "python",
   "nbconvert_exporter": "python",
   "pygments_lexer": "ipython3",
   "version": "3.11.5"
  }
 },
 "nbformat": 4,
 "nbformat_minor": 5
}
